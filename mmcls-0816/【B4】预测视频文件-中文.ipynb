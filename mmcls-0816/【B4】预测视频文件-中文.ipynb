{
 "cells": [
  {
   "cell_type": "markdown",
   "id": "4a36abc9-47b6-4e9a-8d2c-330e64012db2",
   "metadata": {},
   "source": [
    "# ImageNet预训练图像分类模型预测视频文件\n",
    "\n",
    "使用 ImageNet 预训练图像分类模型，对视频文件执行预测。\n",
    "\n",
    "同济子豪兄：https://space.bilibili.com/1900783\n",
    "\n",
    "[代码运行云GPU环境](https://featurize.cn/?s=d7ce99f842414bfcaea5662a97581bd1)：GPU RTX 3060、CUDA v11.2\n",
    "\n",
    "2022-8-15"
   ]
  },
  {
   "cell_type": "markdown",
   "id": "8e020f82-7b1e-4609-bb84-2f820e37cffd",
   "metadata": {},
   "source": [
    "## 进入 mmclassification 目录"
   ]
  },
  {
   "cell_type": "code",
   "execution_count": 1,
   "id": "034196d7-af31-4dd0-9c19-6f333c42aa29",
   "metadata": {},
   "outputs": [],
   "source": [
    "import os\n",
    "os.chdir('mmclassification')"
   ]
  },
  {
   "cell_type": "markdown",
   "id": "61972e0c-ac11-41ea-80a4-323959f64e5c",
   "metadata": {},
   "source": [
    "## 设置matplotlib中文字体"
   ]
  },
  {
   "cell_type": "code",
   "execution_count": 2,
   "id": "79cbb285-15d8-4646-9f08-2bc5cdcaa252",
   "metadata": {},
   "outputs": [],
   "source": [
    "# # windows操作系统\n",
    "# plt.rcParams['font.sans-serif']=['SimHei']  # 用来正常显示中文标签 \n",
    "# plt.rcParams['axes.unicode_minus']=False  # 用来正常显示负号"
   ]
  },
  {
   "cell_type": "code",
   "execution_count": 3,
   "id": "1cb94e0f-92a1-4c1f-946c-fa46350882dd",
   "metadata": {},
   "outputs": [],
   "source": [
    "# Mac操作系统，参考 https://www.ngui.cc/51cto/show-727683.html\n",
    "# 下载 simhei.ttf 字体文件\n",
    "# !wget https://zihao-openmmlab.obs.cn-east-3.myhuaweicloud.com/20220716-mmclassification/dataset/SimHei.ttf"
   ]
  },
  {
   "cell_type": "code",
   "execution_count": 4,
   "id": "f43c0a63-9b47-4844-a408-00333210c3dc",
   "metadata": {},
   "outputs": [
    {
     "name": "stdout",
     "output_type": "stream",
     "text": [
      "--2022-08-16 12:18:21--  https://zihao-openmmlab.obs.cn-east-3.myhuaweicloud.com/20220716-mmclassification/dataset/SimHei.ttf\n",
      "Connecting to 172.16.0.13:5848... connected.\n",
      "Proxy request sent, awaiting response... 200 OK\n",
      "Length: 10050868 (9.6M) [application/x-font-ttf]\n",
      "Saving to: ‘/environment/miniconda3/lib/python3.7/site-packages/matplotlib/mpl-data/fonts/ttf/SimHei.ttf’\n",
      "\n",
      "/environment/minico 100%[===================>]   9.58M  22.1MB/s    in 0.4s    \n",
      "\n",
      "2022-08-16 12:18:27 (22.1 MB/s) - ‘/environment/miniconda3/lib/python3.7/site-packages/matplotlib/mpl-data/fonts/ttf/SimHei.ttf’ saved [10050868/10050868]\n",
      "\n"
     ]
    }
   ],
   "source": [
    "# Linux操作系统，例如 云GPU平台：https://featurize.cn/?s=d7ce99f842414bfcaea5662a97581bd1\n",
    "# 如果遇到 SSL 相关报错，重新运行本代码块即可\n",
    "!wget https://zihao-openmmlab.obs.cn-east-3.myhuaweicloud.com/20220716-mmclassification/dataset/SimHei.ttf -O /environment/miniconda3/lib/python3.7/site-packages/matplotlib/mpl-data/fonts/ttf/SimHei.ttf\n",
    "!rm -rf /home/featurize/.cache/matplotlib\n",
    "\n",
    "import matplotlib\n",
    "matplotlib.rc(\"font\",family='SimHei') # 中文字体\n"
   ]
  },
  {
   "cell_type": "markdown",
   "id": "3e7df198-cb23-49c5-a246-bb08d6d17531",
   "metadata": {
    "tags": []
   },
   "source": [
    "## 导入pillow中文字体"
   ]
  },
  {
   "cell_type": "code",
   "execution_count": 5,
   "id": "8d550774-83be-4a12-8bcd-587dc07964c1",
   "metadata": {},
   "outputs": [],
   "source": [
    "from PIL import ImageFont, ImageDraw\n",
    "# 导入中文字体，指定字号\n",
    "font = ImageFont.truetype('SimHei.ttf', 32)"
   ]
  },
  {
   "cell_type": "markdown",
   "id": "65963d6b-49c8-4837-91ed-90ca4b0bc1d5",
   "metadata": {
    "tags": []
   },
   "source": [
    "## 导入工具包"
   ]
  },
  {
   "cell_type": "code",
   "execution_count": 17,
   "id": "b221ddfb-b7ae-4452-9633-2e1faeb02896",
   "metadata": {},
   "outputs": [
    {
     "name": "stdout",
     "output_type": "stream",
     "text": [
      "device cuda:0\n"
     ]
    }
   ],
   "source": [
    "import os\n",
    "import time\n",
    "import shutil\n",
    "import tempfile\n",
    "from tqdm import tqdm\n",
    "import gc\n",
    "\n",
    "import cv2\n",
    "from PIL import Image, ImageFont, ImageDraw\n",
    "\n",
    "import numpy as np\n",
    "import pandas as pd\n",
    "import matplotlib.pyplot as plt\n",
    "%matplotlib inline\n",
    "\n",
    "import torch\n",
    "\n",
    "import mmcv\n",
    "from mmcls.apis import init_model\n",
    "from mmcls.datasets.pipelines import Compose\n",
    "from mmcv.parallel import collate, scatter\n",
    "from mmcv import Config\n",
    "from mmcls.datasets.pipelines import Compose\n",
    "\n",
    "# 有 GPU 就用 GPU，没有就用 CPU\n",
    "device = torch.device('cuda:0' if torch.cuda.is_available() else 'cpu')\n",
    "print('device', device)"
   ]
  },
  {
   "cell_type": "markdown",
   "id": "456d8276-4e00-4897-9f7b-dc4719210885",
   "metadata": {},
   "source": [
    "## 载入预训练图像分类模型"
   ]
  },
  {
   "cell_type": "code",
   "execution_count": 7,
   "id": "91bedb09-d9f6-4948-ba2d-be3c58427710",
   "metadata": {},
   "outputs": [],
   "source": [
    "# resnet18\n",
    "config_file = 'configs/resnet/resnet18_8xb32_in1k.py'\n",
    "checkpoint_file = 'checkpoints/resnet18_batch256_imagenet_20200708-34ab8f90.pth'"
   ]
  },
  {
   "cell_type": "code",
   "execution_count": 8,
   "id": "1e7f760b-d1e5-4670-b364-a57672f7a29a",
   "metadata": {},
   "outputs": [],
   "source": [
    "# # mobilenet v2\n",
    "# config_file = 'configs/mobilenet_v2/mobilenet_v2_b32x8_imagenet.py'\n",
    "# checkpoint_file = 'checkpoints/mobilenet_v2_batch256_imagenet_20200708-3b2dc3af.pth'"
   ]
  },
  {
   "cell_type": "code",
   "execution_count": 9,
   "id": "135eeeb7-a70a-4a33-9aa4-05965187d635",
   "metadata": {},
   "outputs": [
    {
     "name": "stdout",
     "output_type": "stream",
     "text": [
      "load checkpoint from local path: checkpoints/resnet18_batch256_imagenet_20200708-34ab8f90.pth\n"
     ]
    },
    {
     "name": "stderr",
     "output_type": "stream",
     "text": [
      "/home/featurize/work/MMClassification教程/mmclassification/mmcls/apis/inference.py:45: UserWarning: Class names are not saved in the checkpoint's meta data, use imagenet by default.\n",
      "  warnings.warn('Class names are not saved in the checkpoint\\'s '\n"
     ]
    }
   ],
   "source": [
    "# 通过 config 配置文件 和 checkpoint 权重文件 构建模型\n",
    "model = init_model(config_file, checkpoint_file, device=device)"
   ]
  },
  {
   "cell_type": "code",
   "execution_count": 20,
   "id": "7c0434ab-1ba4-470f-b8e0-5f9044dc11f5",
   "metadata": {},
   "outputs": [],
   "source": [
    "cfg = model.cfg\n",
    "# 去掉预处理的第一步，LoadImageFromFile\n",
    "# 直接输入 img_array 而非 文件路径\n",
    "cfg.data.test.pipeline.pop(0)\n",
    "test_pipeline = Compose(cfg.data.test.pipeline)"
   ]
  },
  {
   "cell_type": "markdown",
   "id": "ca05a2ce-5dc9-401c-9e91-27f81ee53cd7",
   "metadata": {},
   "source": [
    "## 载入ImageNet 1000图像分类中文标签"
   ]
  },
  {
   "cell_type": "code",
   "execution_count": 10,
   "id": "337f94b2-fdc8-4ab4-881d-e578a541dc20",
   "metadata": {},
   "outputs": [],
   "source": [
    "df = pd.read_csv('imagenet_class_index.csv')\n",
    "idx_to_labels = {}\n",
    "for idx, row in df.iterrows():\n",
    "    idx_to_labels[row['ID']] = [row['wordnet'], row['Chinese']]"
   ]
  },
  {
   "cell_type": "code",
   "execution_count": 11,
   "id": "f9f22526-b182-4f11-818b-ff952025d592",
   "metadata": {},
   "outputs": [],
   "source": [
    "# idx_to_labels"
   ]
  },
  {
   "cell_type": "markdown",
   "id": "2eb43857-3d47-4bae-97ac-a0e458cf82c2",
   "metadata": {},
   "source": [
    "## 图像分类预测函数"
   ]
  },
  {
   "cell_type": "code",
   "execution_count": 25,
   "id": "911460a8-dd8b-4468-9a25-b0c97b819b05",
   "metadata": {},
   "outputs": [],
   "source": [
    "def pred_single_frame(img, n=5):\n",
    "    '''\n",
    "    输入摄像头画面bgr-array，输出前n个图像分类预测结果的图像bgr-array\n",
    "    '''\n",
    "    img_bgr = img\n",
    "    img_rgb = cv2.cvtColor(img, cv2.COLOR_BGR2RGB) # BGR 转 RGB\n",
    "    img_pil = Image.fromarray(img_rgb) # array 转 pil\n",
    "    data = test_pipeline({'img': img}) # 预处理\n",
    "    img = data['img'].unsqueeze(0).to(device)\n",
    "    pred_softmax = model(img=img, return_loss=False, post_process=False) # 前向预测\n",
    "    \n",
    "    top_n = torch.topk(pred_softmax, n) # 取置信度最大的 n 个结果\n",
    "    pred_ids = top_n[1].cpu().detach().numpy().squeeze() # 解析出类别\n",
    "    confs = top_n[0].cpu().detach().numpy().squeeze() # 解析出置信度\n",
    "    \n",
    "    # 在图像上写字\n",
    "    draw = ImageDraw.Draw(img_pil)\n",
    "    # 在图像上写字\n",
    "    for i in range(len(confs)):\n",
    "        pred_class = idx_to_labels[pred_ids[i]][1]\n",
    "        text = '{:<15} {:>.3f}'.format(pred_class, confs[i])\n",
    "        # 文字坐标，中文字符串，字体，rgba颜色\n",
    "        draw.text((50, 100 + 50 * i), text, font=font, fill=(255, 0, 0, 1))\n",
    "        \n",
    "    img_bgr = cv2.cvtColor(np.array(img_pil), cv2.COLOR_RGB2BGR) # RGB转BGR\n",
    "\n",
    "        \n",
    "    return img_bgr, pred_softmax    "
   ]
  },
  {
   "cell_type": "markdown",
   "id": "dfaebb30-7e8f-47e8-a508-78438a4d31b7",
   "metadata": {},
   "source": [
    "## 视频预测"
   ]
  },
  {
   "cell_type": "markdown",
   "id": "55344eb0-8516-48a5-9c64-a9dbbf861fbb",
   "metadata": {},
   "source": [
    "### 输入输出视频路径"
   ]
  },
  {
   "cell_type": "code",
   "execution_count": 27,
   "id": "a0ae61f8-23ec-4f99-8951-ebc1522280b7",
   "metadata": {},
   "outputs": [],
   "source": [
    "input_video = 'test_img/video_3.mp4'"
   ]
  },
  {
   "cell_type": "markdown",
   "id": "3841b860-72a0-473a-af17-77ee559c994d",
   "metadata": {},
   "source": [
    "### 可视化方案一：原始图像+预测结果文字"
   ]
  },
  {
   "cell_type": "code",
   "execution_count": 28,
   "id": "9d92a9e1-040d-4c4b-881d-f16053086db0",
   "metadata": {},
   "outputs": [
    {
     "name": "stdout",
     "output_type": "stream",
     "text": [
      "创建文件夹 20220816122350 用于存放每帧预测结果\n"
     ]
    }
   ],
   "source": [
    "# 创建临时文件夹，存放每帧结果\n",
    "temp_out_dir = time.strftime('%Y%m%d%H%M%S')\n",
    "os.mkdir(temp_out_dir)\n",
    "print('创建文件夹 {} 用于存放每帧预测结果'.format(temp_out_dir))"
   ]
  },
  {
   "cell_type": "code",
   "execution_count": 29,
   "id": "4b53cf47-d1eb-4b77-97bd-8ce01dc3cbc4",
   "metadata": {},
   "outputs": [
    {
     "name": "stdout",
     "output_type": "stream",
     "text": [
      "[>>>>>>>>>>>>>>>>>>>>>>>>>>>>>>>>] 63/63, 22.9 task/s, elapsed: 3s, ETA:     0s[                                                  ] 0/63, elapsed: 0s, ETA:\n",
      "删除临时文件夹 20220816122350\n"
     ]
    }
   ],
   "source": [
    "# 读入待预测视频\n",
    "imgs = mmcv.VideoReader(input_video)\n",
    "\n",
    "prog_bar = mmcv.ProgressBar(len(imgs))\n",
    "\n",
    "# 对视频逐帧处理\n",
    "for frame_id, img in enumerate(imgs):\n",
    "    \n",
    "    ## 处理单帧画面\n",
    "    img, pred_softmax = pred_single_frame(img, n=5)\n",
    "\n",
    "    # 将处理后的该帧画面图像文件，保存至 /tmp 目录下\n",
    "    cv2.imwrite(f'{temp_out_dir}/{frame_id:06d}.jpg', img)\n",
    "    \n",
    "    prog_bar.update() # 更新进度条\n",
    "\n",
    "# 把每一帧串成视频文件\n",
    "mmcv.frames2video(temp_out_dir, 'output/output_pred.mp4', fps=imgs.fps, fourcc='mp4v')\n",
    "\n",
    "shutil.rmtree(temp_out_dir) # 删除存放每帧画面的临时文件夹\n",
    "print('删除临时文件夹', temp_out_dir)"
   ]
  },
  {
   "cell_type": "markdown",
   "id": "c1dcc3e2-f1e3-4dab-941c-786050cbb64e",
   "metadata": {},
   "source": [
    "### 可视化方案二：原始图像+预测结果文字+各类别置信度柱状图"
   ]
  },
  {
   "cell_type": "code",
   "execution_count": 30,
   "id": "5470598c-13c0-429b-811b-22f715950310",
   "metadata": {},
   "outputs": [],
   "source": [
    "def pred_single_frame_bar(img):\n",
    "    '''\n",
    "    输入pred_single_frame函数输出的bgr-array，加柱状图，保存\n",
    "    '''\n",
    "    img = cv2.cvtColor(img, cv2.COLOR_BGR2RGB) # BGR 转 RGB\n",
    "    fig = plt.figure(figsize=(18,6))\n",
    "    # 绘制左图-视频图\n",
    "    ax1 = plt.subplot(1,2,1)\n",
    "    ax1.imshow(img)\n",
    "    ax1.axis('off')\n",
    "    # 绘制右图-柱状图\n",
    "    ax2 = plt.subplot(1,2,2)\n",
    "    x = range(1000)\n",
    "    y = pred_softmax.cpu().detach().numpy()[0]\n",
    "    ax2.bar(x, y, alpha=0.5, width=0.3, color='yellow', edgecolor='red', lw=3)\n",
    "    plt.xlabel('类别', fontsize=20)\n",
    "    plt.ylabel('置信度', fontsize=20)\n",
    "    ax2.tick_params(labelsize=16) # 坐标文字大小\n",
    "    plt.ylim([0, 1.0]) # y轴取值范围\n",
    "    plt.xlabel('类别',fontsize=25)\n",
    "    plt.ylabel('置信度',fontsize=25)\n",
    "    plt.title('图像分类预测结果', fontsize=30)\n",
    "    \n",
    "    plt.tight_layout()\n",
    "    fig.savefig(f'{temp_out_dir}/{frame_id:06d}.jpg')\n",
    "    # 释放内存\n",
    "    fig.clf()\n",
    "    plt.close()\n",
    "    gc.collect()"
   ]
  },
  {
   "cell_type": "code",
   "execution_count": 31,
   "id": "41615496-7b29-4bf5-8e3e-3350767fa2ff",
   "metadata": {},
   "outputs": [
    {
     "name": "stdout",
     "output_type": "stream",
     "text": [
      "创建文件夹 20220816122358 用于存放每帧预测结果\n"
     ]
    }
   ],
   "source": [
    "# 创建临时文件夹，存放每帧结果\n",
    "temp_out_dir = time.strftime('%Y%m%d%H%M%S')\n",
    "os.mkdir(temp_out_dir)\n",
    "print('创建文件夹 {} 用于存放每帧预测结果'.format(temp_out_dir))"
   ]
  },
  {
   "cell_type": "code",
   "execution_count": 32,
   "id": "4a4ac4a1-b44c-4028-8e11-7ad24a0bff55",
   "metadata": {},
   "outputs": [
    {
     "name": "stdout",
     "output_type": "stream",
     "text": [
      "[>>>>>>>>>>>>>>>>>>>>>>>>>>>>>>>>] 63/63, 95.3 task/s, elapsed: 1s, ETA:     0s[                                                  ] 0/63, elapsed: 0s, ETA:\n",
      "删除临时文件夹 20220816122358\n"
     ]
    }
   ],
   "source": [
    "# 读入待预测视频\n",
    "imgs = mmcv.VideoReader(input_video)\n",
    "\n",
    "prog_bar = mmcv.ProgressBar(len(imgs))\n",
    "\n",
    "# 对视频逐帧处理\n",
    "for frame_id, img in enumerate(imgs):\n",
    "    \n",
    "    ## 处理单帧画面\n",
    "    img, pred_softmax = pred_single_frame(img, n=5)\n",
    "    img = pred_single_frame_bar(img)\n",
    "    \n",
    "    prog_bar.update() # 更新进度条\n",
    "\n",
    "# 把每一帧串成视频文件\n",
    "mmcv.frames2video(temp_out_dir, 'output/output_bar.mp4', fps=imgs.fps, fourcc='mp4v')\n",
    "\n",
    "shutil.rmtree(temp_out_dir) # 删除存放每帧画面的临时文件夹\n",
    "print('删除临时文件夹', temp_out_dir)"
   ]
  },
  {
   "cell_type": "code",
   "execution_count": null,
   "id": "75a7c2bb-a2c3-4026-b858-be8b18cd0b81",
   "metadata": {},
   "outputs": [],
   "source": []
  }
 ],
 "metadata": {
  "kernelspec": {
   "display_name": "Python 3 (ipykernel)",
   "language": "python",
   "name": "python3"
  },
  "language_info": {
   "codemirror_mode": {
    "name": "ipython",
    "version": 3
   },
   "file_extension": ".py",
   "mimetype": "text/x-python",
   "name": "python",
   "nbconvert_exporter": "python",
   "pygments_lexer": "ipython3",
   "version": "3.7.10"
  }
 },
 "nbformat": 4,
 "nbformat_minor": 5
}
