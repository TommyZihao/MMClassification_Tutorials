{
 "cells": [
  {
   "cell_type": "markdown",
   "id": "913fbc1c-379b-47f3-bf98-f97850084b04",
   "metadata": {},
   "source": [
    "# 测试集总体准确率评估指标\n",
    "\n",
    "分析测试集预测结果表格，计算总体准确率评估指标和各类别准确率评估指标。\n",
    "\n",
    "同济子豪兄：https://space.bilibili.com/1900783\n",
    "\n",
    "[代码运行云GPU环境](https://featurize.cn/?s=d7ce99f842414bfcaea5662a97581bd1)：GPU RTX 3060、CUDA v11.2\n",
    "\n",
    "2022-8-16"
   ]
  },
  {
   "cell_type": "markdown",
   "id": "ce737336-df3a-4ecc-b4c8-ac3b0a8d6061",
   "metadata": {
    "tags": []
   },
   "source": [
    "## 进入 mmclassification 目录"
   ]
  },
  {
   "cell_type": "code",
   "execution_count": 1,
   "id": "0b1291ba-f17d-40af-9617-db52743f0859",
   "metadata": {},
   "outputs": [],
   "source": [
    "import os\n",
    "os.chdir('mmclassification')"
   ]
  },
  {
   "cell_type": "markdown",
   "id": "b517da76-38f0-4f3a-9539-113924c4dcba",
   "metadata": {},
   "source": [
    "## 导入工具包"
   ]
  },
  {
   "cell_type": "code",
   "execution_count": 2,
   "id": "8c1f92bb-985b-4e06-8ded-624ee88bd441",
   "metadata": {},
   "outputs": [],
   "source": [
    "import pandas as pd\n",
    "import numpy as np"
   ]
  },
  {
   "cell_type": "markdown",
   "id": "913a4780-2895-4ec9-b0f4-08bd79ae5c89",
   "metadata": {},
   "source": [
    "## 载入类别名称和ID"
   ]
  },
  {
   "cell_type": "code",
   "execution_count": 3,
   "id": "135b5dd5-9369-49cf-85e0-9e40f3e25068",
   "metadata": {},
   "outputs": [
    {
     "name": "stdout",
     "output_type": "stream",
     "text": [
      "['哈密瓜', '圣女果', '山竹', '杨梅', '柚子', '柠檬', '桂圆', '梨', '椰子', '榴莲', '火龙果', '猕猴桃', '石榴', '砂糖橘', '胡萝卜', '脐橙', '芒果', '苦瓜', '苹果-红', '苹果-青', '草莓', '荔枝', '菠萝', '葡萄-白', '葡萄-红', '西瓜', '西红柿', '车厘子', '香蕉', '黄瓜']\n"
     ]
    }
   ],
   "source": [
    "# 载入类别名称 和 ID索引号 的映射字典\n",
    "idx_to_labels = np.load('idx_to_labels.npy', allow_pickle=True).item()\n",
    "# 获得类别名称\n",
    "classes = list(idx_to_labels.values())\n",
    "print(classes)"
   ]
  },
  {
   "cell_type": "markdown",
   "id": "db1f81d2-71b5-4869-970c-6793b5ff066e",
   "metadata": {},
   "source": [
    "## 载入测试集预测结果表格"
   ]
  },
  {
   "cell_type": "code",
   "execution_count": 13,
   "id": "a7558525-9978-47d2-9949-3d4f027b9e21",
   "metadata": {},
   "outputs": [],
   "source": [
    "df = pd.read_csv('work_dirs/mobilenet_v2_1x_fruit30/测试集预测结果.csv')"
   ]
  },
  {
   "cell_type": "markdown",
   "id": "b586c255-a06d-488d-9770-f3b1892d4393",
   "metadata": {},
   "source": [
    "## 准确率"
   ]
  },
  {
   "cell_type": "code",
   "execution_count": 15,
   "id": "a9ef7fb4-4537-4da5-97fe-9f7d6d6e669e",
   "metadata": {},
   "outputs": [
    {
     "data": {
      "text/plain": [
       "0.865491651205937"
      ]
     },
     "execution_count": 15,
     "metadata": {},
     "output_type": "execute_result"
    }
   ],
   "source": [
    "sum(df['标注类别名称'] == df['top-1-预测名称']) / len(df)"
   ]
  },
  {
   "cell_type": "markdown",
   "id": "f6ed79fb-4d86-4038-b511-25b97eec11a5",
   "metadata": {},
   "source": [
    "## top-n准确率"
   ]
  },
  {
   "cell_type": "code",
   "execution_count": 16,
   "id": "a934a699-729a-4a18-8439-64ebf31c4641",
   "metadata": {},
   "outputs": [
    {
     "data": {
      "text/plain": [
       "0.963821892393321"
      ]
     },
     "execution_count": 16,
     "metadata": {},
     "output_type": "execute_result"
    }
   ],
   "source": [
    "sum(df['top-n预测正确']) / len(df)"
   ]
  },
  {
   "cell_type": "markdown",
   "id": "ffd6571d-36da-42cb-8dd7-07c9857d75f5",
   "metadata": {},
   "source": [
    "## 各类别准确率评估指标\n",
    "\n",
    "公众号 人工智能小技巧 回复 混淆矩阵\n",
    "\n",
    "看子豪兄视频和笔记讲解"
   ]
  },
  {
   "cell_type": "code",
   "execution_count": 8,
   "id": "4a65522b-d1a6-4e41-b633-165d52088387",
   "metadata": {},
   "outputs": [],
   "source": [
    "from sklearn.metrics import classification_report"
   ]
  },
  {
   "cell_type": "code",
   "execution_count": 9,
   "id": "f4008491-2418-4163-972b-5c023007d1f0",
   "metadata": {},
   "outputs": [
    {
     "name": "stdout",
     "output_type": "stream",
     "text": [
      "              precision    recall  f1-score   support\n",
      "\n",
      "         哈密瓜       0.91      0.84      0.87        37\n",
      "         圣女果       0.70      0.87      0.78        38\n",
      "          山竹       0.94      0.97      0.96        35\n",
      "          杨梅       0.92      0.89      0.90        37\n",
      "          柚子       0.83      0.68      0.75        37\n",
      "          柠檬       0.64      0.93      0.76        29\n",
      "          桂圆       0.97      0.97      0.97        38\n",
      "           梨       0.88      0.76      0.81        37\n",
      "          椰子       0.94      0.79      0.86        38\n",
      "          榴莲       0.80      0.97      0.88        36\n",
      "         火龙果       1.00      0.92      0.96        36\n",
      "         猕猴桃       0.83      0.95      0.89        37\n",
      "          石榴       0.90      0.76      0.82        37\n",
      "         砂糖橘       1.00      0.74      0.85        35\n",
      "         胡萝卜       0.82      0.86      0.84        36\n",
      "          脐橙       0.72      0.84      0.77        37\n",
      "          芒果       0.82      0.70      0.75        33\n",
      "          苦瓜       0.91      0.91      0.91        35\n",
      "        苹果-红       0.92      1.00      0.96        35\n",
      "        苹果-青       0.83      0.95      0.89        37\n",
      "          草莓       0.83      0.92      0.88        38\n",
      "          荔枝       0.94      0.82      0.87        38\n",
      "          菠萝       1.00      0.78      0.88        37\n",
      "        葡萄-白       0.91      0.97      0.94        31\n",
      "        葡萄-红       0.90      1.00      0.95        38\n",
      "          西瓜       0.83      0.92      0.87        37\n",
      "         西红柿       0.83      0.67      0.74        36\n",
      "         车厘子       0.89      0.78      0.83        32\n",
      "          香蕉       0.97      0.86      0.91        36\n",
      "          黄瓜       0.81      0.97      0.88        35\n",
      "\n",
      "    accuracy                           0.87      1078\n",
      "   macro avg       0.87      0.87      0.86      1078\n",
      "weighted avg       0.87      0.87      0.87      1078\n",
      "\n"
     ]
    }
   ],
   "source": [
    "print(classification_report(df['标注类别名称'], df['top-1-预测名称'], target_names=classes))"
   ]
  },
  {
   "cell_type": "markdown",
   "id": "ad738dfb-f00d-4df8-acc9-31e2636c4c01",
   "metadata": {},
   "source": [
    "maro avg 宏平均：直接将每一类的评估指标求和取平均（算数平均值）\n",
    "\n",
    "weighted avg 加权平均：按样本数量（support）加权计算评估指标的平均值"
   ]
  },
  {
   "cell_type": "code",
   "execution_count": 10,
   "id": "1a482026-08aa-4b90-bc94-c19007851348",
   "metadata": {},
   "outputs": [],
   "source": [
    "report = classification_report(df['标注类别名称'], df['top-1-预测名称'], target_names=classes, output_dict=True)\n",
    "del report['accuracy']\n",
    "df = pd.DataFrame(report).transpose()"
   ]
  },
  {
   "cell_type": "code",
   "execution_count": 11,
   "id": "05ad253b-ba2b-4475-950a-3e05d3daa542",
   "metadata": {},
   "outputs": [
    {
     "data": {
      "text/html": [
       "<div>\n",
       "<style scoped>\n",
       "    .dataframe tbody tr th:only-of-type {\n",
       "        vertical-align: middle;\n",
       "    }\n",
       "\n",
       "    .dataframe tbody tr th {\n",
       "        vertical-align: top;\n",
       "    }\n",
       "\n",
       "    .dataframe thead th {\n",
       "        text-align: right;\n",
       "    }\n",
       "</style>\n",
       "<table border=\"1\" class=\"dataframe\">\n",
       "  <thead>\n",
       "    <tr style=\"text-align: right;\">\n",
       "      <th></th>\n",
       "      <th>precision</th>\n",
       "      <th>recall</th>\n",
       "      <th>f1-score</th>\n",
       "      <th>support</th>\n",
       "    </tr>\n",
       "  </thead>\n",
       "  <tbody>\n",
       "    <tr>\n",
       "      <th>哈密瓜</th>\n",
       "      <td>0.911765</td>\n",
       "      <td>0.837838</td>\n",
       "      <td>0.873239</td>\n",
       "      <td>37.0</td>\n",
       "    </tr>\n",
       "    <tr>\n",
       "      <th>圣女果</th>\n",
       "      <td>0.702128</td>\n",
       "      <td>0.868421</td>\n",
       "      <td>0.776471</td>\n",
       "      <td>38.0</td>\n",
       "    </tr>\n",
       "    <tr>\n",
       "      <th>山竹</th>\n",
       "      <td>0.944444</td>\n",
       "      <td>0.971429</td>\n",
       "      <td>0.957746</td>\n",
       "      <td>35.0</td>\n",
       "    </tr>\n",
       "    <tr>\n",
       "      <th>杨梅</th>\n",
       "      <td>0.916667</td>\n",
       "      <td>0.891892</td>\n",
       "      <td>0.904110</td>\n",
       "      <td>37.0</td>\n",
       "    </tr>\n",
       "    <tr>\n",
       "      <th>柚子</th>\n",
       "      <td>0.833333</td>\n",
       "      <td>0.675676</td>\n",
       "      <td>0.746269</td>\n",
       "      <td>37.0</td>\n",
       "    </tr>\n",
       "    <tr>\n",
       "      <th>柠檬</th>\n",
       "      <td>0.642857</td>\n",
       "      <td>0.931034</td>\n",
       "      <td>0.760563</td>\n",
       "      <td>29.0</td>\n",
       "    </tr>\n",
       "    <tr>\n",
       "      <th>桂圆</th>\n",
       "      <td>0.973684</td>\n",
       "      <td>0.973684</td>\n",
       "      <td>0.973684</td>\n",
       "      <td>38.0</td>\n",
       "    </tr>\n",
       "    <tr>\n",
       "      <th>梨</th>\n",
       "      <td>0.875000</td>\n",
       "      <td>0.756757</td>\n",
       "      <td>0.811594</td>\n",
       "      <td>37.0</td>\n",
       "    </tr>\n",
       "    <tr>\n",
       "      <th>椰子</th>\n",
       "      <td>0.937500</td>\n",
       "      <td>0.789474</td>\n",
       "      <td>0.857143</td>\n",
       "      <td>38.0</td>\n",
       "    </tr>\n",
       "    <tr>\n",
       "      <th>榴莲</th>\n",
       "      <td>0.795455</td>\n",
       "      <td>0.972222</td>\n",
       "      <td>0.875000</td>\n",
       "      <td>36.0</td>\n",
       "    </tr>\n",
       "    <tr>\n",
       "      <th>火龙果</th>\n",
       "      <td>1.000000</td>\n",
       "      <td>0.916667</td>\n",
       "      <td>0.956522</td>\n",
       "      <td>36.0</td>\n",
       "    </tr>\n",
       "    <tr>\n",
       "      <th>猕猴桃</th>\n",
       "      <td>0.833333</td>\n",
       "      <td>0.945946</td>\n",
       "      <td>0.886076</td>\n",
       "      <td>37.0</td>\n",
       "    </tr>\n",
       "    <tr>\n",
       "      <th>石榴</th>\n",
       "      <td>0.903226</td>\n",
       "      <td>0.756757</td>\n",
       "      <td>0.823529</td>\n",
       "      <td>37.0</td>\n",
       "    </tr>\n",
       "    <tr>\n",
       "      <th>砂糖橘</th>\n",
       "      <td>1.000000</td>\n",
       "      <td>0.742857</td>\n",
       "      <td>0.852459</td>\n",
       "      <td>35.0</td>\n",
       "    </tr>\n",
       "    <tr>\n",
       "      <th>胡萝卜</th>\n",
       "      <td>0.815789</td>\n",
       "      <td>0.861111</td>\n",
       "      <td>0.837838</td>\n",
       "      <td>36.0</td>\n",
       "    </tr>\n",
       "    <tr>\n",
       "      <th>脐橙</th>\n",
       "      <td>0.720930</td>\n",
       "      <td>0.837838</td>\n",
       "      <td>0.775000</td>\n",
       "      <td>37.0</td>\n",
       "    </tr>\n",
       "    <tr>\n",
       "      <th>芒果</th>\n",
       "      <td>0.821429</td>\n",
       "      <td>0.696970</td>\n",
       "      <td>0.754098</td>\n",
       "      <td>33.0</td>\n",
       "    </tr>\n",
       "    <tr>\n",
       "      <th>苦瓜</th>\n",
       "      <td>0.914286</td>\n",
       "      <td>0.914286</td>\n",
       "      <td>0.914286</td>\n",
       "      <td>35.0</td>\n",
       "    </tr>\n",
       "    <tr>\n",
       "      <th>苹果-红</th>\n",
       "      <td>0.921053</td>\n",
       "      <td>1.000000</td>\n",
       "      <td>0.958904</td>\n",
       "      <td>35.0</td>\n",
       "    </tr>\n",
       "    <tr>\n",
       "      <th>苹果-青</th>\n",
       "      <td>0.833333</td>\n",
       "      <td>0.945946</td>\n",
       "      <td>0.886076</td>\n",
       "      <td>37.0</td>\n",
       "    </tr>\n",
       "    <tr>\n",
       "      <th>草莓</th>\n",
       "      <td>0.833333</td>\n",
       "      <td>0.921053</td>\n",
       "      <td>0.875000</td>\n",
       "      <td>38.0</td>\n",
       "    </tr>\n",
       "    <tr>\n",
       "      <th>荔枝</th>\n",
       "      <td>0.939394</td>\n",
       "      <td>0.815789</td>\n",
       "      <td>0.873239</td>\n",
       "      <td>38.0</td>\n",
       "    </tr>\n",
       "    <tr>\n",
       "      <th>菠萝</th>\n",
       "      <td>1.000000</td>\n",
       "      <td>0.783784</td>\n",
       "      <td>0.878788</td>\n",
       "      <td>37.0</td>\n",
       "    </tr>\n",
       "    <tr>\n",
       "      <th>葡萄-白</th>\n",
       "      <td>0.909091</td>\n",
       "      <td>0.967742</td>\n",
       "      <td>0.937500</td>\n",
       "      <td>31.0</td>\n",
       "    </tr>\n",
       "    <tr>\n",
       "      <th>葡萄-红</th>\n",
       "      <td>0.904762</td>\n",
       "      <td>1.000000</td>\n",
       "      <td>0.950000</td>\n",
       "      <td>38.0</td>\n",
       "    </tr>\n",
       "    <tr>\n",
       "      <th>西瓜</th>\n",
       "      <td>0.829268</td>\n",
       "      <td>0.918919</td>\n",
       "      <td>0.871795</td>\n",
       "      <td>37.0</td>\n",
       "    </tr>\n",
       "    <tr>\n",
       "      <th>西红柿</th>\n",
       "      <td>0.827586</td>\n",
       "      <td>0.666667</td>\n",
       "      <td>0.738462</td>\n",
       "      <td>36.0</td>\n",
       "    </tr>\n",
       "    <tr>\n",
       "      <th>车厘子</th>\n",
       "      <td>0.892857</td>\n",
       "      <td>0.781250</td>\n",
       "      <td>0.833333</td>\n",
       "      <td>32.0</td>\n",
       "    </tr>\n",
       "    <tr>\n",
       "      <th>香蕉</th>\n",
       "      <td>0.968750</td>\n",
       "      <td>0.861111</td>\n",
       "      <td>0.911765</td>\n",
       "      <td>36.0</td>\n",
       "    </tr>\n",
       "    <tr>\n",
       "      <th>黄瓜</th>\n",
       "      <td>0.809524</td>\n",
       "      <td>0.971429</td>\n",
       "      <td>0.883117</td>\n",
       "      <td>35.0</td>\n",
       "    </tr>\n",
       "    <tr>\n",
       "      <th>macro avg</th>\n",
       "      <td>0.873693</td>\n",
       "      <td>0.865818</td>\n",
       "      <td>0.864454</td>\n",
       "      <td>1078.0</td>\n",
       "    </tr>\n",
       "    <tr>\n",
       "      <th>weighted avg</th>\n",
       "      <td>0.874913</td>\n",
       "      <td>0.865492</td>\n",
       "      <td>0.865031</td>\n",
       "      <td>1078.0</td>\n",
       "    </tr>\n",
       "  </tbody>\n",
       "</table>\n",
       "</div>"
      ],
      "text/plain": [
       "              precision    recall  f1-score  support\n",
       "哈密瓜            0.911765  0.837838  0.873239     37.0\n",
       "圣女果            0.702128  0.868421  0.776471     38.0\n",
       "山竹             0.944444  0.971429  0.957746     35.0\n",
       "杨梅             0.916667  0.891892  0.904110     37.0\n",
       "柚子             0.833333  0.675676  0.746269     37.0\n",
       "柠檬             0.642857  0.931034  0.760563     29.0\n",
       "桂圆             0.973684  0.973684  0.973684     38.0\n",
       "梨              0.875000  0.756757  0.811594     37.0\n",
       "椰子             0.937500  0.789474  0.857143     38.0\n",
       "榴莲             0.795455  0.972222  0.875000     36.0\n",
       "火龙果            1.000000  0.916667  0.956522     36.0\n",
       "猕猴桃            0.833333  0.945946  0.886076     37.0\n",
       "石榴             0.903226  0.756757  0.823529     37.0\n",
       "砂糖橘            1.000000  0.742857  0.852459     35.0\n",
       "胡萝卜            0.815789  0.861111  0.837838     36.0\n",
       "脐橙             0.720930  0.837838  0.775000     37.0\n",
       "芒果             0.821429  0.696970  0.754098     33.0\n",
       "苦瓜             0.914286  0.914286  0.914286     35.0\n",
       "苹果-红           0.921053  1.000000  0.958904     35.0\n",
       "苹果-青           0.833333  0.945946  0.886076     37.0\n",
       "草莓             0.833333  0.921053  0.875000     38.0\n",
       "荔枝             0.939394  0.815789  0.873239     38.0\n",
       "菠萝             1.000000  0.783784  0.878788     37.0\n",
       "葡萄-白           0.909091  0.967742  0.937500     31.0\n",
       "葡萄-红           0.904762  1.000000  0.950000     38.0\n",
       "西瓜             0.829268  0.918919  0.871795     37.0\n",
       "西红柿            0.827586  0.666667  0.738462     36.0\n",
       "车厘子            0.892857  0.781250  0.833333     32.0\n",
       "香蕉             0.968750  0.861111  0.911765     36.0\n",
       "黄瓜             0.809524  0.971429  0.883117     35.0\n",
       "macro avg      0.873693  0.865818  0.864454   1078.0\n",
       "weighted avg   0.874913  0.865492  0.865031   1078.0"
      ]
     },
     "execution_count": 11,
     "metadata": {},
     "output_type": "execute_result"
    }
   ],
   "source": [
    "df"
   ]
  },
  {
   "cell_type": "code",
   "execution_count": 12,
   "id": "fda855ee-c7c7-42c4-956c-f384ad687e0d",
   "metadata": {},
   "outputs": [],
   "source": [
    "df.to_csv('work_dirs/mobilenet_v2_1x_fruit30/各类别准确率评估指标.csv', index_label='类别')"
   ]
  },
  {
   "cell_type": "code",
   "execution_count": null,
   "id": "b5867f38-5c0e-4124-b187-8f86d8535bf4",
   "metadata": {},
   "outputs": [],
   "source": []
  }
 ],
 "metadata": {
  "kernelspec": {
   "display_name": "Python 3 (ipykernel)",
   "language": "python",
   "name": "python3"
  },
  "language_info": {
   "codemirror_mode": {
    "name": "ipython",
    "version": 3
   },
   "file_extension": ".py",
   "mimetype": "text/x-python",
   "name": "python",
   "nbconvert_exporter": "python",
   "pygments_lexer": "ipython3",
   "version": "3.7.10"
  }
 },
 "nbformat": 4,
 "nbformat_minor": 5
}
