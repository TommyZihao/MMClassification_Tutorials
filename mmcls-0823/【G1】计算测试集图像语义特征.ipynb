{
 "cells": [
  {
   "cell_type": "markdown",
   "id": "753ae5b1-2f57-4f1c-ba12-0c2a6f62a23a",
   "metadata": {},
   "source": [
    "# 计算测试集图像语义特征\n",
    "\n",
    "抽取 MMClassification 训练得到的水果图像分类模型中间层的输出特征，作为输入图像的语义特征。\n",
    "\n",
    "计算测试集所有图像的语义特征，使用t-SNE和UMAP两种降维方法降维至二维和三维，可视化。\n",
    "\n",
    "分析不同类别的语义距离、异常数据、细粒度分类、高维数据结构。\n",
    "\n",
    "同济子豪兄：https://space.bilibili.com/1900783\n",
    "\n",
    "[代码运行云GPU环境](https://featurize.cn/?s=d7ce99f842414bfcaea5662a97581bd1)：GPU RTX 3060、CUDA v11.2"
   ]
  },
  {
   "cell_type": "markdown",
   "id": "ce1a3258-cbb8-4ca7-8733-92a4f1e8ea7b",
   "metadata": {
    "tags": []
   },
   "source": [
    "## 进入 mmclassification 目录"
   ]
  },
  {
   "cell_type": "code",
   "execution_count": 1,
   "id": "d2892ead-89a5-4f29-9ed3-ed9b79b2cdc0",
   "metadata": {},
   "outputs": [],
   "source": [
    "import os\n",
    "os.chdir('mmclassification')"
   ]
  },
  {
   "cell_type": "markdown",
   "id": "81109bfb-06c9-4186-868a-a1de7be2da52",
   "metadata": {},
   "source": [
    "## 导入工具包"
   ]
  },
  {
   "cell_type": "code",
   "execution_count": 18,
   "id": "a128d068-c6bd-43bb-b7b9-cbcc0ce59b5a",
   "metadata": {},
   "outputs": [
    {
     "name": "stdout",
     "output_type": "stream",
     "text": [
      "device cuda:0\n"
     ]
    }
   ],
   "source": [
    "import pandas as pd\n",
    "import numpy as np\n",
    "from tqdm import tqdm\n",
    "\n",
    "from mmcv import Config\n",
    "\n",
    "from mmcls.datasets.pipelines import Compose\n",
    "\n",
    "from mmcls.apis import init_model\n",
    "\n",
    "import torch\n",
    "\n",
    "# 有 GPU 就用 GPU，没有就用 CPU\n",
    "device = torch.device('cuda:0' if torch.cuda.is_available() else 'cpu')\n",
    "print('device', device)"
   ]
  },
  {
   "cell_type": "markdown",
   "id": "0495bc7c-e136-4ee1-b2ec-526ab1d3bc5d",
   "metadata": {},
   "source": [
    "## 载入训练好的水果图像分类模型"
   ]
  },
  {
   "cell_type": "code",
   "execution_count": 5,
   "id": "422e723e-335e-4af2-86ac-287836d4aef5",
   "metadata": {},
   "outputs": [
    {
     "name": "stdout",
     "output_type": "stream",
     "text": [
      "load checkpoint from local path: work_dirs/mobilenet_v2_1x_fruit30/latest.pth\n"
     ]
    }
   ],
   "source": [
    "# 训练得到的 mobilenet v2 新模型\n",
    "config_file = 'configs/mobilenet_v2/mobilenet_v2_1x_fruit30.py'\n",
    "checkpoint_file = 'work_dirs/mobilenet_v2_1x_fruit30/latest.pth'\n",
    "# checkpoint_file = 'https://zihao-openmmlab.obs.myhuaweicloud.com/20220716-mmclassification/checkpoints/fruit30_mmcls/latest.pth'\n",
    "\n",
    "# 通过 config 配置文件 和 checkpoint 权重文件 构建模型\n",
    "model = init_model(config_file, checkpoint_file, device=device)\n",
    "\n",
    "cfg = model.cfg\n",
    "test_pipeline = Compose(cfg.data.test.pipeline)"
   ]
  },
  {
   "cell_type": "markdown",
   "id": "5d196f88-adb0-4be8-8077-d809a13e85c0",
   "metadata": {},
   "source": [
    "## 计算单张图像的语义特征"
   ]
  },
  {
   "cell_type": "code",
   "execution_count": 7,
   "id": "9f0c47ea-3285-4092-b07c-b6ad81101f16",
   "metadata": {},
   "outputs": [],
   "source": [
    "img_path = 'fruit30_split/val/菠萝/105.jpg'"
   ]
  },
  {
   "cell_type": "code",
   "execution_count": 8,
   "id": "d444b116-c6a0-4dfd-be84-daaabf133344",
   "metadata": {},
   "outputs": [],
   "source": [
    "data = {\n",
    "    'img_info': {'filename':img_path},\n",
    "    'img_prefix': None\n",
    "}\n",
    "\n",
    "data = test_pipeline(data)\n",
    "img = data['img'].unsqueeze(0).to(device)"
   ]
  },
  {
   "cell_type": "code",
   "execution_count": 9,
   "id": "649e9f27-4ad6-4160-ac37-06e18b96b7d1",
   "metadata": {},
   "outputs": [
    {
     "data": {
      "text/plain": [
       "torch.Size([1, 3, 224, 224])"
      ]
     },
     "execution_count": 9,
     "metadata": {},
     "output_type": "execute_result"
    }
   ],
   "source": [
    "img.shape"
   ]
  },
  {
   "cell_type": "code",
   "execution_count": 10,
   "id": "6ce5e8bf-3e62-410a-aba1-430b414641ee",
   "metadata": {},
   "outputs": [],
   "source": [
    "features = model.extract_feat(img)"
   ]
  },
  {
   "cell_type": "code",
   "execution_count": 11,
   "id": "eb377b3d-44c2-4815-9a8b-fec4c3e61eac",
   "metadata": {},
   "outputs": [
    {
     "data": {
      "text/plain": [
       "torch.Size([1, 1280])"
      ]
     },
     "execution_count": 11,
     "metadata": {},
     "output_type": "execute_result"
    }
   ],
   "source": [
    "features[0].shape"
   ]
  },
  {
   "cell_type": "markdown",
   "id": "41533125-e9d5-417e-9a84-e4207e4c99c7",
   "metadata": {},
   "source": [
    "默认计算`neck`层输出作为语义特征"
   ]
  },
  {
   "cell_type": "markdown",
   "id": "b1d681eb-d2af-4e54-bfa2-78590dffafbe",
   "metadata": {},
   "source": [
    "## 载入测试集图像分类结果"
   ]
  },
  {
   "cell_type": "code",
   "execution_count": 15,
   "id": "6bb76734-83d2-49c9-ae35-3240595d5861",
   "metadata": {},
   "outputs": [],
   "source": [
    "df = pd.read_csv('work_dirs/mobilenet_v2_1x_fruit30/测试集预测结果.csv')"
   ]
  },
  {
   "cell_type": "code",
   "execution_count": 16,
   "id": "6de3a2b3-0035-4f01-afbc-69b87e1af806",
   "metadata": {},
   "outputs": [
    {
     "data": {
      "text/html": [
       "<div>\n",
       "<style scoped>\n",
       "    .dataframe tbody tr th:only-of-type {\n",
       "        vertical-align: middle;\n",
       "    }\n",
       "\n",
       "    .dataframe tbody tr th {\n",
       "        vertical-align: top;\n",
       "    }\n",
       "\n",
       "    .dataframe thead th {\n",
       "        text-align: right;\n",
       "    }\n",
       "</style>\n",
       "<table border=\"1\" class=\"dataframe\">\n",
       "  <thead>\n",
       "    <tr style=\"text-align: right;\">\n",
       "      <th></th>\n",
       "      <th>图像路径</th>\n",
       "      <th>标注类别名称</th>\n",
       "      <th>标注类别ID</th>\n",
       "      <th>top-1-预测ID</th>\n",
       "      <th>top-1-预测名称</th>\n",
       "      <th>top-2-预测ID</th>\n",
       "      <th>top-2-预测名称</th>\n",
       "      <th>top-3-预测ID</th>\n",
       "      <th>top-3-预测名称</th>\n",
       "      <th>top-n预测正确</th>\n",
       "      <th>...</th>\n",
       "      <th>草莓-预测置信度</th>\n",
       "      <th>荔枝-预测置信度</th>\n",
       "      <th>菠萝-预测置信度</th>\n",
       "      <th>葡萄-白-预测置信度</th>\n",
       "      <th>葡萄-红-预测置信度</th>\n",
       "      <th>西瓜-预测置信度</th>\n",
       "      <th>西红柿-预测置信度</th>\n",
       "      <th>车厘子-预测置信度</th>\n",
       "      <th>香蕉-预测置信度</th>\n",
       "      <th>黄瓜-预测置信度</th>\n",
       "    </tr>\n",
       "  </thead>\n",
       "  <tbody>\n",
       "    <tr>\n",
       "      <th>0</th>\n",
       "      <td>fruit30_split/val/苦瓜/161.jpg</td>\n",
       "      <td>苦瓜</td>\n",
       "      <td>17</td>\n",
       "      <td>17.0</td>\n",
       "      <td>苦瓜</td>\n",
       "      <td>14.0</td>\n",
       "      <td>胡萝卜</td>\n",
       "      <td>23.0</td>\n",
       "      <td>葡萄-白</td>\n",
       "      <td>1.0</td>\n",
       "      <td>...</td>\n",
       "      <td>0.001597</td>\n",
       "      <td>1.300516e-06</td>\n",
       "      <td>4.565059e-07</td>\n",
       "      <td>0.001999</td>\n",
       "      <td>4.944520e-04</td>\n",
       "      <td>4.040559e-05</td>\n",
       "      <td>1.985327e-04</td>\n",
       "      <td>1.293132e-07</td>\n",
       "      <td>4.450464e-07</td>\n",
       "      <td>8.378662e-05</td>\n",
       "    </tr>\n",
       "    <tr>\n",
       "      <th>1</th>\n",
       "      <td>fruit30_split/val/苦瓜/158.jpg</td>\n",
       "      <td>苦瓜</td>\n",
       "      <td>17</td>\n",
       "      <td>17.0</td>\n",
       "      <td>苦瓜</td>\n",
       "      <td>23.0</td>\n",
       "      <td>葡萄-白</td>\n",
       "      <td>29.0</td>\n",
       "      <td>黄瓜</td>\n",
       "      <td>1.0</td>\n",
       "      <td>...</td>\n",
       "      <td>0.000020</td>\n",
       "      <td>1.148556e-07</td>\n",
       "      <td>1.931659e-07</td>\n",
       "      <td>0.010118</td>\n",
       "      <td>1.288236e-05</td>\n",
       "      <td>3.079307e-06</td>\n",
       "      <td>3.649963e-06</td>\n",
       "      <td>1.672791e-08</td>\n",
       "      <td>7.884714e-07</td>\n",
       "      <td>2.289558e-04</td>\n",
       "    </tr>\n",
       "    <tr>\n",
       "      <th>2</th>\n",
       "      <td>fruit30_split/val/苦瓜/148.jpg</td>\n",
       "      <td>苦瓜</td>\n",
       "      <td>17</td>\n",
       "      <td>17.0</td>\n",
       "      <td>苦瓜</td>\n",
       "      <td>14.0</td>\n",
       "      <td>胡萝卜</td>\n",
       "      <td>29.0</td>\n",
       "      <td>黄瓜</td>\n",
       "      <td>1.0</td>\n",
       "      <td>...</td>\n",
       "      <td>0.000020</td>\n",
       "      <td>9.969936e-09</td>\n",
       "      <td>1.933638e-07</td>\n",
       "      <td>0.000011</td>\n",
       "      <td>2.079129e-07</td>\n",
       "      <td>3.513297e-05</td>\n",
       "      <td>2.743521e-07</td>\n",
       "      <td>5.043417e-10</td>\n",
       "      <td>4.636924e-07</td>\n",
       "      <td>2.881152e-04</td>\n",
       "    </tr>\n",
       "    <tr>\n",
       "      <th>3</th>\n",
       "      <td>fruit30_split/val/苦瓜/183.jpg</td>\n",
       "      <td>苦瓜</td>\n",
       "      <td>17</td>\n",
       "      <td>17.0</td>\n",
       "      <td>苦瓜</td>\n",
       "      <td>23.0</td>\n",
       "      <td>葡萄-白</td>\n",
       "      <td>14.0</td>\n",
       "      <td>胡萝卜</td>\n",
       "      <td>1.0</td>\n",
       "      <td>...</td>\n",
       "      <td>0.000094</td>\n",
       "      <td>1.243638e-07</td>\n",
       "      <td>3.491051e-07</td>\n",
       "      <td>0.001021</td>\n",
       "      <td>1.807617e-05</td>\n",
       "      <td>3.682075e-06</td>\n",
       "      <td>5.000793e-06</td>\n",
       "      <td>1.761318e-08</td>\n",
       "      <td>3.402481e-06</td>\n",
       "      <td>2.371633e-05</td>\n",
       "    </tr>\n",
       "    <tr>\n",
       "      <th>4</th>\n",
       "      <td>fruit30_split/val/苦瓜/41.jpeg</td>\n",
       "      <td>苦瓜</td>\n",
       "      <td>17</td>\n",
       "      <td>17.0</td>\n",
       "      <td>苦瓜</td>\n",
       "      <td>23.0</td>\n",
       "      <td>葡萄-白</td>\n",
       "      <td>20.0</td>\n",
       "      <td>草莓</td>\n",
       "      <td>1.0</td>\n",
       "      <td>...</td>\n",
       "      <td>0.000004</td>\n",
       "      <td>1.345433e-10</td>\n",
       "      <td>2.634503e-08</td>\n",
       "      <td>0.000514</td>\n",
       "      <td>7.998624e-08</td>\n",
       "      <td>1.178391e-09</td>\n",
       "      <td>1.978439e-08</td>\n",
       "      <td>6.912543e-13</td>\n",
       "      <td>2.308019e-08</td>\n",
       "      <td>5.676298e-07</td>\n",
       "    </tr>\n",
       "  </tbody>\n",
       "</table>\n",
       "<p>5 rows × 40 columns</p>\n",
       "</div>"
      ],
      "text/plain": [
       "                           图像路径 标注类别名称  标注类别ID  top-1-预测ID top-1-预测名称  \\\n",
       "0  fruit30_split/val/苦瓜/161.jpg     苦瓜      17        17.0         苦瓜   \n",
       "1  fruit30_split/val/苦瓜/158.jpg     苦瓜      17        17.0         苦瓜   \n",
       "2  fruit30_split/val/苦瓜/148.jpg     苦瓜      17        17.0         苦瓜   \n",
       "3  fruit30_split/val/苦瓜/183.jpg     苦瓜      17        17.0         苦瓜   \n",
       "4  fruit30_split/val/苦瓜/41.jpeg     苦瓜      17        17.0         苦瓜   \n",
       "\n",
       "   top-2-预测ID top-2-预测名称  top-3-预测ID top-3-预测名称  top-n预测正确  ...  草莓-预测置信度  \\\n",
       "0        14.0        胡萝卜        23.0       葡萄-白        1.0  ...  0.001597   \n",
       "1        23.0       葡萄-白        29.0         黄瓜        1.0  ...  0.000020   \n",
       "2        14.0        胡萝卜        29.0         黄瓜        1.0  ...  0.000020   \n",
       "3        23.0       葡萄-白        14.0        胡萝卜        1.0  ...  0.000094   \n",
       "4        23.0       葡萄-白        20.0         草莓        1.0  ...  0.000004   \n",
       "\n",
       "       荔枝-预测置信度      菠萝-预测置信度  葡萄-白-预测置信度    葡萄-红-预测置信度      西瓜-预测置信度  \\\n",
       "0  1.300516e-06  4.565059e-07    0.001999  4.944520e-04  4.040559e-05   \n",
       "1  1.148556e-07  1.931659e-07    0.010118  1.288236e-05  3.079307e-06   \n",
       "2  9.969936e-09  1.933638e-07    0.000011  2.079129e-07  3.513297e-05   \n",
       "3  1.243638e-07  3.491051e-07    0.001021  1.807617e-05  3.682075e-06   \n",
       "4  1.345433e-10  2.634503e-08    0.000514  7.998624e-08  1.178391e-09   \n",
       "\n",
       "      西红柿-预测置信度     车厘子-预测置信度      香蕉-预测置信度      黄瓜-预测置信度  \n",
       "0  1.985327e-04  1.293132e-07  4.450464e-07  8.378662e-05  \n",
       "1  3.649963e-06  1.672791e-08  7.884714e-07  2.289558e-04  \n",
       "2  2.743521e-07  5.043417e-10  4.636924e-07  2.881152e-04  \n",
       "3  5.000793e-06  1.761318e-08  3.402481e-06  2.371633e-05  \n",
       "4  1.978439e-08  6.912543e-13  2.308019e-08  5.676298e-07  \n",
       "\n",
       "[5 rows x 40 columns]"
      ]
     },
     "execution_count": 16,
     "metadata": {},
     "output_type": "execute_result"
    }
   ],
   "source": [
    "df.head()"
   ]
  },
  {
   "cell_type": "markdown",
   "id": "74e7d010-df35-4fb9-8dcb-1af2d5399681",
   "metadata": {},
   "source": [
    "## 计算测试集每张图像的语义特征"
   ]
  },
  {
   "cell_type": "code",
   "execution_count": 19,
   "id": "0d630667-6b6b-4fdd-8c4d-28286499330b",
   "metadata": {},
   "outputs": [
    {
     "name": "stderr",
     "output_type": "stream",
     "text": [
      "100%|██████████| 1078/1078 [00:14<00:00, 72.96it/s]\n"
     ]
    }
   ],
   "source": [
    "encoding_array = []\n",
    "img_path_list = []\n",
    "\n",
    "for img_path in tqdm(df['图像路径']):\n",
    "    img_path_list.append(img_path)\n",
    "    \n",
    "    # 预处理\n",
    "    data = {\n",
    "        'img_info': {'filename':img_path},\n",
    "        'img_prefix': None\n",
    "    }\n",
    "\n",
    "    data = test_pipeline(data)\n",
    "    img = data['img'].unsqueeze(0).to(device)\n",
    "    \n",
    "    # 计算语义特征\n",
    "    feature = model.extract_feat(img)[0].squeeze().detach().cpu().numpy()\n",
    "    \n",
    "    encoding_array.append(feature)\n",
    "encoding_array = np.array(encoding_array)"
   ]
  },
  {
   "cell_type": "code",
   "execution_count": 20,
   "id": "fec12f5b-35d0-4367-8ac1-7d7321eecee9",
   "metadata": {},
   "outputs": [
    {
     "data": {
      "text/plain": [
       "(1078, 1280)"
      ]
     },
     "execution_count": 20,
     "metadata": {},
     "output_type": "execute_result"
    }
   ],
   "source": [
    "encoding_array.shape"
   ]
  },
  {
   "cell_type": "markdown",
   "id": "c434aad3-9689-4e77-bef7-1daa4400e590",
   "metadata": {},
   "source": [
    "## 保存为本地的.npy文件"
   ]
  },
  {
   "cell_type": "code",
   "execution_count": 22,
   "id": "896a318d-430c-4b59-9c94-0b08ba0106dd",
   "metadata": {},
   "outputs": [],
   "source": [
    "# 保存为本地的 npy 文件\n",
    "np.save('work_dirs/mobilenet_v2_1x_fruit30/测试集语义特征.npy', encoding_array)"
   ]
  },
  {
   "cell_type": "code",
   "execution_count": null,
   "id": "4417cdc4-0bad-428c-896f-1d35d31401a8",
   "metadata": {},
   "outputs": [],
   "source": []
  }
 ],
 "metadata": {
  "kernelspec": {
   "display_name": "Python 3 (ipykernel)",
   "language": "python",
   "name": "python3"
  },
  "language_info": {
   "codemirror_mode": {
    "name": "ipython",
    "version": 3
   },
   "file_extension": ".py",
   "mimetype": "text/x-python",
   "name": "python",
   "nbconvert_exporter": "python",
   "pygments_lexer": "ipython3",
   "version": "3.7.10"
  }
 },
 "nbformat": 4,
 "nbformat_minor": 5
}
