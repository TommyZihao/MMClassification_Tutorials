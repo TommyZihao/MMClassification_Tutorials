{
 "cells": [
  {
   "cell_type": "markdown",
   "id": "0fc8ebd8-db6e-4a17-895f-2f87fc98ca79",
   "metadata": {},
   "source": [
    "# 安装配置MMClassification\n",
    "\n",
    "按照顺序逐行运行本代码，即可安装配置 MMCV、MMClassification 环境\n",
    "\n",
    "代码测试[云GPU环境](https://featurize.cn?s=d7ce99f842414bfcaea5662a97581bd1)：GPU RTX 3060、CUDA v11.2\n",
    "\n",
    "OpenMMLab 主页：https://openmmlab.com/\n",
    "\n",
    "MMClassification 主页：https://github.com/open-mmlab/mmclassification\n",
    "\n",
    "作者：同济子豪兄 2022-7-16"
   ]
  },
  {
   "cell_type": "markdown",
   "id": "63d0dc47-4601-49a3-8d25-12b4d24fa6f0",
   "metadata": {},
   "source": [
    "> 提示：以下代码运行时，若长时间运行卡着不动，可重启 kernel 后重新运行一遍"
   ]
  },
  {
   "cell_type": "markdown",
   "id": "6fc1c686-1267-4503-b9e4-bcb188a7f974",
   "metadata": {
    "tags": []
   },
   "source": [
    "## 下载安装Pytorch（大约需要两分钟）"
   ]
  },
  {
   "cell_type": "code",
   "execution_count": 1,
   "id": "ebac87ae-6b96-417f-88f2-5016e8860bb5",
   "metadata": {},
   "outputs": [
    {
     "name": "stdout",
     "output_type": "stream",
     "text": [
      "Looking in indexes: https://pypi.tuna.tsinghua.edu.cn/simple, https://download.pytorch.org/whl/cu113\n",
      "Requirement already satisfied: torch in /environment/miniconda3/lib/python3.7/site-packages (1.10.0+cu113)\n",
      "Requirement already satisfied: torchvision in /environment/miniconda3/lib/python3.7/site-packages (0.11.1+cu113)\n",
      "Requirement already satisfied: torchaudio in /environment/miniconda3/lib/python3.7/site-packages (0.10.0+cu113)\n",
      "Requirement already satisfied: typing-extensions in /environment/miniconda3/lib/python3.7/site-packages (from torch) (4.0.1)\n",
      "Requirement already satisfied: pillow!=8.3.0,>=5.3.0 in /environment/miniconda3/lib/python3.7/site-packages (from torchvision) (8.4.0)\n",
      "Requirement already satisfied: numpy in /home/featurize/work/.local/lib/python3.7/site-packages (from torchvision) (1.19.3)\n"
     ]
    }
   ],
   "source": [
    "!pip3 install torch torchvision torchaudio --extra-index-url https://download.pytorch.org/whl/cu113"
   ]
  },
  {
   "cell_type": "markdown",
   "id": "30ca00a2-4f39-44f3-9379-8889e3a24b39",
   "metadata": {},
   "source": [
    "## 下载安装 mmcv-full（大约需要两分钟）"
   ]
  },
  {
   "cell_type": "code",
   "execution_count": 2,
   "id": "69d80570-7eb5-4bf4-a84d-39106d23f73b",
   "metadata": {},
   "outputs": [
    {
     "name": "stdout",
     "output_type": "stream",
     "text": [
      "Looking in indexes: https://pypi.tuna.tsinghua.edu.cn/simple\n",
      "Looking in links: https://download.openmmlab.com/mmcv/dist/cu113/torch1.10.0/index.html\n",
      "Requirement already satisfied: mmcv-full in /environment/miniconda3/lib/python3.7/site-packages (1.6.1)\n",
      "Requirement already satisfied: Pillow in /environment/miniconda3/lib/python3.7/site-packages (from mmcv-full) (8.4.0)\n",
      "Requirement already satisfied: opencv-python>=3 in /environment/miniconda3/lib/python3.7/site-packages (from mmcv-full) (4.5.4.60)\n",
      "Requirement already satisfied: addict in /environment/miniconda3/lib/python3.7/site-packages (from mmcv-full) (2.4.0)\n",
      "Requirement already satisfied: pyyaml in /environment/miniconda3/lib/python3.7/site-packages (from mmcv-full) (6.0)\n",
      "Requirement already satisfied: yapf in /environment/miniconda3/lib/python3.7/site-packages (from mmcv-full) (0.31.0)\n",
      "Requirement already satisfied: packaging in /environment/miniconda3/lib/python3.7/site-packages (from mmcv-full) (21.3)\n",
      "Requirement already satisfied: numpy in /home/featurize/work/.local/lib/python3.7/site-packages (from mmcv-full) (1.19.3)\n",
      "Requirement already satisfied: pyparsing!=3.0.5,>=2.0.2 in /environment/miniconda3/lib/python3.7/site-packages (from packaging->mmcv-full) (3.0.6)\n"
     ]
    }
   ],
   "source": [
    "# 安装mmcv -full\n",
    "!pip install mmcv-full -f https://download.openmmlab.com/mmcv/dist/cu113/torch1.10.0/index.html"
   ]
  },
  {
   "cell_type": "markdown",
   "id": "acfbe0eb-35d6-4ebd-9e8d-cb3562f8cfda",
   "metadata": {},
   "source": [
    "## 安装 MMClassification"
   ]
  },
  {
   "cell_type": "code",
   "execution_count": 3,
   "id": "8ae3868b-964f-4995-aa73-933fd21da46f",
   "metadata": {},
   "outputs": [],
   "source": [
    "# 删除原有的 mmclassification 目录（如有）\n",
    "!rm -rf mmclassification"
   ]
  },
  {
   "cell_type": "code",
   "execution_count": 4,
   "id": "f8697dd5-a321-4626-a0d3-f28cb1e2b231",
   "metadata": {},
   "outputs": [
    {
     "name": "stdout",
     "output_type": "stream",
     "text": [
      "Cloning into 'mmclassification'...\n",
      "remote: Enumerating objects: 8996, done.\u001b[K\n",
      "remote: Counting objects: 100% (283/283), done.\u001b[K\n",
      "remote: Compressing objects: 100% (238/238), done.\u001b[K\n",
      "remote: Total 8996 (delta 93), reused 185 (delta 35), pack-reused 8713\u001b[K\n",
      "Receiving objects: 100% (8996/8996), 10.06 MiB | 15.22 MiB/s, done.\n",
      "Resolving deltas: 100% (6179/6179), done.\n",
      "Updating files: 100% (851/851), done.\n"
     ]
    }
   ],
   "source": [
    "!git clone https://github.com/open-mmlab/mmclassification.git"
   ]
  },
  {
   "cell_type": "code",
   "execution_count": 5,
   "id": "66cce97c-3930-46c1-bf8d-f0eb7c8d83eb",
   "metadata": {},
   "outputs": [],
   "source": [
    "import os\n",
    "os.chdir('mmclassification')"
   ]
  },
  {
   "cell_type": "code",
   "execution_count": 6,
   "id": "ef343f60-2b5a-49a6-810d-29c19c9c3066",
   "metadata": {},
   "outputs": [
    {
     "name": "stdout",
     "output_type": "stream",
     "text": [
      "Looking in indexes: https://pypi.tuna.tsinghua.edu.cn/simple\n",
      "Obtaining file:///home/featurize/work/MMClassification%E6%95%99%E7%A8%8B/mmclassification\n",
      "Requirement already satisfied: matplotlib in /environment/miniconda3/lib/python3.7/site-packages (from mmcls==0.23.2) (3.5.0)\n",
      "Requirement already satisfied: numpy in /home/featurize/work/.local/lib/python3.7/site-packages (from mmcls==0.23.2) (1.19.3)\n",
      "Requirement already satisfied: packaging in /environment/miniconda3/lib/python3.7/site-packages (from mmcls==0.23.2) (21.3)\n",
      "Requirement already satisfied: fonttools>=4.22.0 in /environment/miniconda3/lib/python3.7/site-packages (from matplotlib->mmcls==0.23.2) (4.28.3)\n",
      "Requirement already satisfied: pyparsing>=2.2.1 in /environment/miniconda3/lib/python3.7/site-packages (from matplotlib->mmcls==0.23.2) (3.0.6)\n",
      "Requirement already satisfied: pillow>=6.2.0 in /environment/miniconda3/lib/python3.7/site-packages (from matplotlib->mmcls==0.23.2) (8.4.0)\n",
      "Requirement already satisfied: setuptools-scm>=4 in /environment/miniconda3/lib/python3.7/site-packages (from matplotlib->mmcls==0.23.2) (6.3.2)\n",
      "Requirement already satisfied: cycler>=0.10 in /environment/miniconda3/lib/python3.7/site-packages (from matplotlib->mmcls==0.23.2) (0.11.0)\n",
      "Requirement already satisfied: python-dateutil>=2.7 in /environment/miniconda3/lib/python3.7/site-packages (from matplotlib->mmcls==0.23.2) (2.8.2)\n",
      "Requirement already satisfied: kiwisolver>=1.0.1 in /environment/miniconda3/lib/python3.7/site-packages (from matplotlib->mmcls==0.23.2) (1.3.2)\n",
      "Requirement already satisfied: six>=1.5 in /environment/miniconda3/lib/python3.7/site-packages (from python-dateutil>=2.7->matplotlib->mmcls==0.23.2) (1.16.0)\n",
      "Requirement already satisfied: tomli>=1.0.0 in /environment/miniconda3/lib/python3.7/site-packages (from setuptools-scm>=4->matplotlib->mmcls==0.23.2) (1.2.2)\n",
      "Requirement already satisfied: setuptools in /environment/miniconda3/lib/python3.7/site-packages (from setuptools-scm>=4->matplotlib->mmcls==0.23.2) (52.0.0.post20210125)\n",
      "Installing collected packages: mmcls\n",
      "  Running setup.py develop for mmcls\n",
      "Successfully installed mmcls-0.23.2\n"
     ]
    }
   ],
   "source": [
    "!pip install -e ."
   ]
  },
  {
   "cell_type": "markdown",
   "id": "38c55520-071b-41de-91f4-3ec78e16bf27",
   "metadata": {},
   "source": [
    "## 安装其它工具包（大约需要一分钟）"
   ]
  },
  {
   "cell_type": "code",
   "execution_count": 7,
   "id": "eb4b3373-f117-46a9-ab43-e67753eb7c61",
   "metadata": {},
   "outputs": [
    {
     "name": "stdout",
     "output_type": "stream",
     "text": [
      "Looking in indexes: https://pypi.tuna.tsinghua.edu.cn/simple\n",
      "Requirement already satisfied: pillow in /environment/miniconda3/lib/python3.7/site-packages (8.4.0)\n",
      "Requirement already satisfied: opencv-python in /environment/miniconda3/lib/python3.7/site-packages (4.5.4.60)\n",
      "Requirement already satisfied: matplotlib in /environment/miniconda3/lib/python3.7/site-packages (3.5.0)\n",
      "Requirement already satisfied: seaborn in /environment/miniconda3/lib/python3.7/site-packages (0.11.2)\n",
      "Requirement already satisfied: tqdm in /environment/miniconda3/lib/python3.7/site-packages (4.61.2)\n",
      "Collecting imageio-ffmpeg\n",
      "  Downloading https://pypi.tuna.tsinghua.edu.cn/packages/e5/3b/fdf3e75462e93b7806ffecad6c5aa35f2cc76b9f2faaedf5e43194ceff09/imageio_ffmpeg-0.4.7-py3-none-manylinux2010_x86_64.whl (26.9 MB)\n",
      "\u001b[K     |████████████████████████████████| 26.9 MB 56.9 MB/s eta 0:00:01     |████████████████▍               | 13.7 MB 56.9 MB/s eta 0:00:01\n",
      "\u001b[?25hRequirement already satisfied: numpy>=1.14.5 in /home/featurize/work/.local/lib/python3.7/site-packages (from opencv-python) (1.19.3)\n",
      "Requirement already satisfied: setuptools-scm>=4 in /environment/miniconda3/lib/python3.7/site-packages (from matplotlib) (6.3.2)\n",
      "Requirement already satisfied: kiwisolver>=1.0.1 in /environment/miniconda3/lib/python3.7/site-packages (from matplotlib) (1.3.2)\n",
      "Requirement already satisfied: pyparsing>=2.2.1 in /environment/miniconda3/lib/python3.7/site-packages (from matplotlib) (3.0.6)\n",
      "Requirement already satisfied: cycler>=0.10 in /environment/miniconda3/lib/python3.7/site-packages (from matplotlib) (0.11.0)\n",
      "Requirement already satisfied: packaging>=20.0 in /environment/miniconda3/lib/python3.7/site-packages (from matplotlib) (21.3)\n",
      "Requirement already satisfied: python-dateutil>=2.7 in /environment/miniconda3/lib/python3.7/site-packages (from matplotlib) (2.8.2)\n",
      "Requirement already satisfied: fonttools>=4.22.0 in /environment/miniconda3/lib/python3.7/site-packages (from matplotlib) (4.28.3)\n",
      "Requirement already satisfied: six>=1.5 in /environment/miniconda3/lib/python3.7/site-packages (from python-dateutil>=2.7->matplotlib) (1.16.0)\n",
      "Requirement already satisfied: setuptools in /environment/miniconda3/lib/python3.7/site-packages (from setuptools-scm>=4->matplotlib) (52.0.0.post20210125)\n",
      "Requirement already satisfied: tomli>=1.0.0 in /environment/miniconda3/lib/python3.7/site-packages (from setuptools-scm>=4->matplotlib) (1.2.2)\n",
      "Requirement already satisfied: pandas>=0.23 in /environment/miniconda3/lib/python3.7/site-packages (from seaborn) (1.3.4)\n",
      "Requirement already satisfied: scipy>=1.0 in /environment/miniconda3/lib/python3.7/site-packages (from seaborn) (1.7.3)\n",
      "Requirement already satisfied: pytz>=2017.3 in /environment/miniconda3/lib/python3.7/site-packages (from pandas>=0.23->seaborn) (2021.3)\n",
      "Installing collected packages: imageio-ffmpeg\n",
      "Successfully installed imageio-ffmpeg-0.4.7\n"
     ]
    }
   ],
   "source": [
    "!pip install pillow opencv-python matplotlib seaborn tqdm imageio-ffmpeg grad-cam -i https://pypi.tuna.tsinghua.edu.cn/simple"
   ]
  },
  {
   "cell_type": "markdown",
   "id": "a828bfe4-82e5-497a-9bda-cb9837df2cb3",
   "metadata": {},
   "source": [
    "## 创建文件夹"
   ]
  },
  {
   "cell_type": "code",
   "execution_count": 8,
   "id": "5aac1d0c-dbf5-478c-ab80-7e2aa0ab0f01",
   "metadata": {},
   "outputs": [],
   "source": [
    "# 创建 checkpoints 文件夹，用于存放预训练模型权重文件\n",
    "os.mkdir('checkpoints')\n",
    "\n",
    "# 创建 outputs 文件夹，用于存放预测结果\n",
    "os.mkdir('output')\n",
    "\n",
    "# 创建 test_img 文件夹，用于存放输入图像和视频素材\n",
    "os.mkdir('test_img')"
   ]
  },
  {
   "cell_type": "markdown",
   "id": "fae8e464-d609-4e00-a1a2-cf4403741c41",
   "metadata": {},
   "source": [
    "## 下载预训练模型权重\n",
    "\n",
    "MMClassification模型库Mode Zoo：https://mmclassification.readthedocs.io/en/latest/model_zoo.html"
   ]
  },
  {
   "cell_type": "code",
   "execution_count": 15,
   "id": "e5f4a9c1-70d6-4a0b-8684-18a4886dbb2b",
   "metadata": {},
   "outputs": [
    {
     "name": "stdout",
     "output_type": "stream",
     "text": [
      "--2022-08-16 21:20:58--  https://download.openmmlab.com/mmclassification/v0/mobilenet_v2/mobilenet_v2_batch256_imagenet_20200708-3b2dc3af.pth\n",
      "Connecting to 172.16.0.13:5848... connected.\n",
      "WARNING: no certificate subject alternative name matches\n",
      "\trequested host name ‘download.openmmlab.com’.\n",
      "Proxy request sent, awaiting response... 200 OK\n",
      "Length: 14206911 (14M) [application/octet-stream]\n",
      "Saving to: ‘checkpoints/mobilenet_v2_batch256_imagenet_20200708-3b2dc3af.pth.2’\n",
      "\n",
      "mobilenet_v2_batch2 100%[===================>]  13.55M  --.-KB/s    in 0.1s    \n",
      "\n",
      "2022-08-16 21:20:59 (108 MB/s) - ‘checkpoints/mobilenet_v2_batch256_imagenet_20200708-3b2dc3af.pth.2’ saved [14206911/14206911]\n",
      "\n",
      "--2022-08-16 21:20:59--  https://download.openmmlab.com/mmclassification/v0/resnet/resnet18_batch256_imagenet_20200708-34ab8f90.pth\n",
      "Connecting to 172.16.0.13:5848... connected.\n",
      "WARNING: no certificate subject alternative name matches\n",
      "\trequested host name ‘download.openmmlab.com’.\n",
      "Proxy request sent, awaiting response... 200 OK\n",
      "Length: 46815742 (45M) [application/octet-stream]\n",
      "Saving to: ‘checkpoints/resnet18_batch256_imagenet_20200708-34ab8f90.pth.2’\n",
      "\n",
      "resnet18_batch256_i 100%[===================>]  44.65M   109MB/s    in 0.4s    \n",
      "\n",
      "2022-08-16 21:20:59 (109 MB/s) - ‘checkpoints/resnet18_batch256_imagenet_20200708-34ab8f90.pth.2’ saved [46815742/46815742]\n",
      "\n",
      "--2022-08-16 21:20:59--  https://download.openmmlab.com/mmclassification/v0/swin-transformer/swin_tiny_224_b16x64_300e_imagenet_20210616_090925-66df6be6.pth\n",
      "Connecting to 172.16.0.13:5848... connected.\n",
      "WARNING: no certificate subject alternative name matches\n",
      "\trequested host name ‘download.openmmlab.com’.\n",
      "Proxy request sent, awaiting response... 200 OK\n",
      "Length: 114376069 (109M) [application/zip]\n",
      "Saving to: ‘checkpoints/swin_tiny_224_b16x64_300e_imagenet_20210616_090925-66df6be6.pth’\n",
      "\n",
      "swin_tiny_224_b16x6 100%[===================>] 109.08M  97.7MB/s    in 1.1s    \n",
      "\n",
      "2022-08-16 21:21:01 (97.7 MB/s) - ‘checkpoints/swin_tiny_224_b16x64_300e_imagenet_20210616_090925-66df6be6.pth’ saved [114376069/114376069]\n",
      "\n"
     ]
    }
   ],
   "source": [
    "!wget https://download.openmmlab.com/mmclassification/v0/mobilenet_v2/mobilenet_v2_batch256_imagenet_20200708-3b2dc3af.pth -P checkpoints --no-check-certificate\n",
    "\n",
    "!wget https://download.openmmlab.com/mmclassification/v0/resnet/resnet18_batch256_imagenet_20200708-34ab8f90.pth -P checkpoints --no-check-certificate\n",
    "\n",
    "!wget https://download.openmmlab.com/mmclassification/v0/swin-transformer/swin_tiny_224_b16x64_300e_imagenet_20210616_090925-66df6be6.pth -P checkpoints --no-check-certificate\n"
   ]
  },
  {
   "cell_type": "markdown",
   "id": "e4fb1cb6-2b9b-418c-9230-6b413c748095",
   "metadata": {},
   "source": [
    "## 下载素材\n",
    "\n",
    "如果报错`Unable to establish SSL connection.`，重新运行代码块即可。"
   ]
  },
  {
   "cell_type": "code",
   "execution_count": 19,
   "id": "7e0e897f-bc6f-493e-b015-80377ff027d0",
   "metadata": {},
   "outputs": [
    {
     "name": "stdout",
     "output_type": "stream",
     "text": [
      "--2022-08-17 09:17:57--  https://zihao-openmmlab.obs.myhuaweicloud.com/20220716-mmclassification/test/banana-kiwi.png\n",
      "Connecting to 172.16.0.13:5848... connected.\n",
      "Proxy request sent, awaiting response... 200 OK\n",
      "Length: 2840590 (2.7M) [image/png]\n",
      "Saving to: ‘test_img/banana-kiwi.png’\n",
      "\n",
      "banana-kiwi.png     100%[===================>]   2.71M  8.55MB/s    in 0.3s    \n",
      "\n",
      "2022-08-17 09:17:59 (8.55 MB/s) - ‘test_img/banana-kiwi.png’ saved [2840590/2840590]\n",
      "\n"
     ]
    }
   ],
   "source": [
    "!wget https://zihao-openmmlab.obs.myhuaweicloud.com/20220716-mmclassification/test/banana-kiwi.png -P test_img"
   ]
  },
  {
   "cell_type": "code",
   "execution_count": 18,
   "id": "48727264-5e33-40e4-821f-afb2c7b897e0",
   "metadata": {},
   "outputs": [
    {
     "name": "stdout",
     "output_type": "stream",
     "text": [
      "--2022-08-16 23:06:31--  https://zihao-openmmlab.obs.cn-east-3.myhuaweicloud.com/20220716-mmclassification/test/watermelon1.jpg\n",
      "Connecting to 172.16.0.13:5848... connected.\n",
      "Proxy request sent, awaiting response... 200 OK\n",
      "Length: 429666 (420K) [image/jpeg]\n",
      "Saving to: ‘test_img/watermelon1.jpg.1’\n",
      "\n",
      "watermelon1.jpg.1   100%[===================>] 419.60K  1.96MB/s    in 0.2s    \n",
      "\n",
      "2022-08-16 23:06:32 (1.96 MB/s) - ‘test_img/watermelon1.jpg.1’ saved [429666/429666]\n",
      "\n",
      "--2022-08-16 23:06:32--  https://zihao-openmmlab.obs.cn-east-3.myhuaweicloud.com/20220716-mmclassification/test/banana1.jpg\n",
      "Connecting to 172.16.0.13:5848... connected.\n",
      "Proxy request sent, awaiting response... 200 OK\n",
      "Length: 463879 (453K) [image/jpeg]\n",
      "Saving to: ‘test_img/banana1.jpg.2’\n",
      "\n",
      "banana1.jpg.2       100%[===================>] 453.01K  2.08MB/s    in 0.2s    \n",
      "\n",
      "2022-08-16 23:06:32 (2.08 MB/s) - ‘test_img/banana1.jpg.2’ saved [463879/463879]\n",
      "\n",
      "--2022-08-16 23:06:32--  https://zihao-openmmlab.obs.cn-east-3.myhuaweicloud.com/20220716-mmclassification/test/cat1.jpg\n",
      "Connecting to 172.16.0.13:5848... connected.\n",
      "Proxy request sent, awaiting response... 200 OK\n",
      "Length: 34701 (34K) [image/jpeg]\n",
      "Saving to: ‘test_img/cat1.jpg.1’\n",
      "\n",
      "cat1.jpg.1          100%[===================>]  33.89K  --.-KB/s    in 0.06s   \n",
      "\n",
      "2022-08-16 23:06:33 (566 KB/s) - ‘test_img/cat1.jpg.1’ saved [34701/34701]\n",
      "\n",
      "--2022-08-16 23:06:33--  https://zihao-openmmlab.obs.cn-east-3.myhuaweicloud.com/20220716-mmclassification/test/husky1.jpeg\n",
      "Connecting to 172.16.0.13:5848... connected.\n",
      "Proxy request sent, awaiting response... 200 OK\n",
      "Length: 284402 (278K) [image/jpeg]\n",
      "Saving to: ‘test_img/husky1.jpeg.1’\n",
      "\n",
      "husky1.jpeg.1       100%[===================>] 277.74K  1.42MB/s    in 0.2s    \n",
      "\n",
      "2022-08-16 23:06:33 (1.42 MB/s) - ‘test_img/husky1.jpeg.1’ saved [284402/284402]\n",
      "\n",
      "--2022-08-16 23:06:33--  https://zihao-openmmlab.obs.cn-east-3.myhuaweicloud.com/20220716-mmclassification/test/cat_dog.jpg\n",
      "Connecting to 172.16.0.13:5848... connected.\n",
      "Proxy request sent, awaiting response... 200 OK\n",
      "Length: 817995 (799K) [image/jpeg]\n",
      "Saving to: ‘test_img/cat_dog.jpg.1’\n",
      "\n",
      "cat_dog.jpg.1       100%[===================>] 798.82K  3.09MB/s    in 0.3s    \n",
      "\n",
      "2022-08-16 23:06:34 (3.09 MB/s) - ‘test_img/cat_dog.jpg.1’ saved [817995/817995]\n",
      "\n",
      "--2022-08-16 23:06:34--  https://zihao-openmmlab.obs.cn-east-3.myhuaweicloud.com/20220716-mmclassification/test/video_3.mp4\n",
      "Connecting to 172.16.0.13:5848... connected.\n",
      "Proxy request sent, awaiting response... 200 OK\n",
      "Length: 4884638 (4.7M) [video/mp4]\n",
      "Saving to: ‘test_img/video_3.mp4.1’\n",
      "\n",
      "video_3.mp4.1       100%[===================>]   4.66M  13.2MB/s    in 0.4s    \n",
      "\n",
      "2022-08-16 23:06:35 (13.2 MB/s) - ‘test_img/video_3.mp4.1’ saved [4884638/4884638]\n",
      "\n",
      "--2022-08-16 23:06:35--  https://zihao-openmmlab.obs.myhuaweicloud.com/20220716-mmclassification/test/fruits.png\n",
      "Connecting to 172.16.0.13:5848... connected.\n",
      "Proxy request sent, awaiting response... 200 OK\n",
      "Length: 2158451 (2.1M) [image/png]\n",
      "Saving to: ‘test_img/fruits.png.2’\n",
      "\n",
      "fruits.png.2        100%[===================>]   2.06M  6.50MB/s    in 0.3s    \n",
      "\n",
      "2022-08-16 23:06:35 (6.50 MB/s) - ‘test_img/fruits.png.2’ saved [2158451/2158451]\n",
      "\n"
     ]
    }
   ],
   "source": [
    "# 下载测试图像文件 至 test_img 文件夹\n",
    "\n",
    "!wget https://zihao-openmmlab.obs.cn-east-3.myhuaweicloud.com/20220716-mmclassification/test/watermelon1.jpg -P test_img\n",
    "!wget https://zihao-openmmlab.obs.cn-east-3.myhuaweicloud.com/20220716-mmclassification/test/banana1.jpg -P test_img\n",
    "!wget https://zihao-openmmlab.obs.cn-east-3.myhuaweicloud.com/20220716-mmclassification/test/cat1.jpg -P test_img\n",
    "\n",
    "# 哈士奇，来源：https://www.pexels.com/zh-cn/photo/2853130/\n",
    "!wget https://zihao-openmmlab.obs.cn-east-3.myhuaweicloud.com/20220716-mmclassification/test/husky1.jpeg -P test_img\n",
    "\n",
    "# 猫狗，来源：https://unsplash.com/photos/ouo1hbizWwo\n",
    "!wget https://zihao-openmmlab.obs.cn-east-3.myhuaweicloud.com/20220716-mmclassification/test/cat_dog.jpg -P test_img\n",
    "\n",
    "!wget https://zihao-openmmlab.obs.cn-east-3.myhuaweicloud.com/20220716-mmclassification/test/video_3.mp4 -P test_img\n",
    "\n",
    "# 多类水果，来源：https://www.pexels.com/zh-cn/photo/162825\n",
    "!wget https://zihao-openmmlab.obs.myhuaweicloud.com/20220716-mmclassification/test/fruits.png -P test_img"
   ]
  },
  {
   "cell_type": "markdown",
   "id": "bbd9256a-3ae4-42d0-ad4c-f85527eeb59b",
   "metadata": {},
   "source": [
    "## 下载 ImageNet 1000类别信息"
   ]
  },
  {
   "cell_type": "code",
   "execution_count": 14,
   "id": "ad87e1f8-e15a-45a4-bbeb-cc7d0479610c",
   "metadata": {},
   "outputs": [
    {
     "name": "stdout",
     "output_type": "stream",
     "text": [
      "--2022-08-15 21:56:10--  https://zihao-openmmlab.obs.cn-east-3.myhuaweicloud.com/20220716-mmclassification/dataset/meta_data/imagenet_class_index.csv\n",
      "Connecting to 172.16.0.13:5848... connected.\n",
      "Proxy request sent, awaiting response... 200 OK\n",
      "Length: 37074 (36K) [text/csv]\n",
      "Saving to: ‘imagenet_class_index.csv’\n",
      "\n",
      "imagenet_class_inde 100%[===================>]  36.21K  --.-KB/s    in 0.06s   \n",
      "\n",
      "2022-08-15 21:56:11 (615 KB/s) - ‘imagenet_class_index.csv’ saved [37074/37074]\n",
      "\n"
     ]
    }
   ],
   "source": [
    "!wget https://zihao-openmmlab.obs.cn-east-3.myhuaweicloud.com/20220716-mmclassification/dataset/meta_data/imagenet_class_index.csv\n"
   ]
  },
  {
   "cell_type": "markdown",
   "id": "263c16fe-0454-42d5-9fa8-46835e4c62c7",
   "metadata": {},
   "source": [
    "## 下载中文字体文件"
   ]
  },
  {
   "cell_type": "code",
   "execution_count": 1,
   "id": "7a5ca015-1143-4683-a584-3a46917a6d68",
   "metadata": {},
   "outputs": [
    {
     "name": "stdout",
     "output_type": "stream",
     "text": [
      "--2022-08-15 22:16:35--  https://zihao-openmmlab.obs.cn-east-3.myhuaweicloud.com/20220716-mmclassification/dataset/SimHei.ttf\n",
      "Connecting to 172.16.0.13:5848... connected.\n",
      "Proxy request sent, awaiting response... 200 OK\n",
      "Length: 10050868 (9.6M) [application/x-font-ttf]\n",
      "Saving to: ‘SimHei.ttf’\n",
      "\n",
      "SimHei.ttf          100%[===================>]   9.58M  21.8MB/s    in 0.4s    \n",
      "\n",
      "2022-08-15 22:16:36 (21.8 MB/s) - ‘SimHei.ttf’ saved [10050868/10050868]\n",
      "\n"
     ]
    }
   ],
   "source": [
    "!wget https://zihao-openmmlab.obs.cn-east-3.myhuaweicloud.com/20220716-mmclassification/dataset/SimHei.ttf\n"
   ]
  },
  {
   "cell_type": "markdown",
   "id": "fa97e1da-f245-4d32-892d-dec07a6b2c16",
   "metadata": {},
   "source": [
    "## 检查是否安装成功"
   ]
  },
  {
   "cell_type": "code",
   "execution_count": 10,
   "id": "d368a814-721f-4ae3-abf4-e7719c7a9be4",
   "metadata": {},
   "outputs": [
    {
     "name": "stdout",
     "output_type": "stream",
     "text": [
      "Pytorch 版本 1.10.0+cu113\n",
      "torchvision版本 0.11.1+cu113\n",
      "CUDA 是否可用 True\n"
     ]
    }
   ],
   "source": [
    "# 检查 pytorch\n",
    "import torch, torchvision\n",
    "print('Pytorch 版本', torch.__version__)\n",
    "print('torchvision版本', torchvision.__version__)\n",
    "print('CUDA 是否可用',torch.cuda.is_available())"
   ]
  },
  {
   "cell_type": "code",
   "execution_count": 11,
   "id": "f32552b1-e3b5-47cb-86d2-2b915e0c2c48",
   "metadata": {},
   "outputs": [
    {
     "name": "stdout",
     "output_type": "stream",
     "text": [
      "CUDA版本 11.3\n",
      "编译器版本 GCC 9.3\n"
     ]
    }
   ],
   "source": [
    "# 检查 mmcv\n",
    "from mmcv.ops import get_compiling_cuda_version, get_compiler_version\n",
    "print('CUDA版本', get_compiling_cuda_version())\n",
    "print('编译器版本', get_compiler_version())"
   ]
  },
  {
   "cell_type": "code",
   "execution_count": 12,
   "id": "23fd8ded-d0e9-4838-a306-1c7fa877a3c8",
   "metadata": {},
   "outputs": [
    {
     "name": "stdout",
     "output_type": "stream",
     "text": [
      "0.23.2\n"
     ]
    }
   ],
   "source": [
    "# 检查 mmclassification\n",
    "import mmcls\n",
    "print(mmcls.__version__)"
   ]
  },
  {
   "cell_type": "code",
   "execution_count": null,
   "id": "bce7e97f-ac23-4878-83d4-38689804090c",
   "metadata": {},
   "outputs": [],
   "source": []
  }
 ],
 "metadata": {
  "kernelspec": {
   "display_name": "Python 3 (ipykernel)",
   "language": "python",
   "name": "python3"
  },
  "language_info": {
   "codemirror_mode": {
    "name": "ipython",
    "version": 3
   },
   "file_extension": ".py",
   "mimetype": "text/x-python",
   "name": "python",
   "nbconvert_exporter": "python",
   "pygments_lexer": "ipython3",
   "version": "3.7.10"
  },
  "toc-autonumbering": false,
  "toc-showtags": false
 },
 "nbformat": 4,
 "nbformat_minor": 5
}
