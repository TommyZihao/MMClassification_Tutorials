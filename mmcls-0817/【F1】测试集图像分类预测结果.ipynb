{
 "cells": [
  {
   "cell_type": "markdown",
   "id": "3412e734-343c-4765-9b18-84baff81041b",
   "metadata": {
    "tags": []
   },
   "source": [
    "# 测试集图像分类预测结果\n",
    "\n",
    "同济子豪兄：https://space.bilibili.com/1900783\n",
    "\n",
    "[代码运行云GPU环境](https://featurize.cn/?s=d7ce99f842414bfcaea5662a97581bd1)：GPU RTX 3060、CUDA v11.2\n",
    "\n",
    "2022-8-16"
   ]
  },
  {
   "cell_type": "markdown",
   "id": "07e10b3a-f122-469d-9b4d-d5a3c6a735b0",
   "metadata": {},
   "source": [
    "## 进入 mmclassification 目录"
   ]
  },
  {
   "cell_type": "code",
   "execution_count": 1,
   "id": "0b1291ba-f17d-40af-9617-db52743f0859",
   "metadata": {},
   "outputs": [],
   "source": [
    "import os\n",
    "os.chdir('mmclassification')"
   ]
  },
  {
   "cell_type": "markdown",
   "id": "1dfedbb6-171f-446c-823d-0a0c77b6f116",
   "metadata": {},
   "source": [
    "## 将训练得到的模型在测试集上预测，获得图像分类评估结果"
   ]
  },
  {
   "cell_type": "code",
   "execution_count": 2,
   "id": "ef3e53cd-9c2f-4778-a7dc-8d24b898f432",
   "metadata": {},
   "outputs": [
    {
     "name": "stdout",
     "output_type": "stream",
     "text": [
      "/home/featurize/work/MMClassification教程/mmclassification/mmcls/utils/setup_env.py:33: UserWarning: Setting OMP_NUM_THREADS environment variable for each process to be 1 in default, to avoid your system being overloaded, please further tune the variable for optimal performance in your application as needed.\n",
      "  f'Setting OMP_NUM_THREADS environment variable for each process '\n",
      "/home/featurize/work/MMClassification教程/mmclassification/mmcls/utils/setup_env.py:43: UserWarning: Setting MKL_NUM_THREADS environment variable for each process to be 1 in default, to avoid your system being overloaded, please further tune the variable for optimal performance in your application as needed.\n",
      "  f'Setting MKL_NUM_THREADS environment variable for each process '\n",
      "load checkpoint from local path: work_dirs/mobilenet_v2_1x_fruit30/latest.pth\n",
      "[>>>>>>>>>>>>>>>>>>>>>>>>>>>] 1078/1078, 236.6 task/s, elapsed: 5s, ETA:     0s\n",
      "accuracy : 86.55\n",
      "\n",
      "support : 1078.0\n",
      "\n",
      "precision : 87.37\n",
      "\n",
      "recall : 86.58\n",
      "\n",
      "f1_score : 86.45\n"
     ]
    }
   ],
   "source": [
    "!python tools/test.py \\\n",
    "        configs/mobilenet_v2/mobilenet_v2_1x_fruit30.py \\\n",
    "        work_dirs/mobilenet_v2_1x_fruit30/latest.pth \\\n",
    "        --metrics accuracy precision recall f1_score support \\\n",
    "        --metric-options topk=1\n"
   ]
  },
  {
   "cell_type": "markdown",
   "id": "e296b374-5db7-4123-85ed-25dfd72dce27",
   "metadata": {},
   "source": [
    "## 将训练得到的模型在测试集上预测，获得所有测试集数据的预测结果"
   ]
  },
  {
   "cell_type": "code",
   "execution_count": 17,
   "id": "1608d6f7-d88a-4be7-a8ac-17e241db4c7d",
   "metadata": {},
   "outputs": [
    {
     "name": "stdout",
     "output_type": "stream",
     "text": [
      "/home/featurize/work/MMClassification教程/mmclassification/mmcls/utils/setup_env.py:33: UserWarning: Setting OMP_NUM_THREADS environment variable for each process to be 1 in default, to avoid your system being overloaded, please further tune the variable for optimal performance in your application as needed.\n",
      "  f'Setting OMP_NUM_THREADS environment variable for each process '\n",
      "/home/featurize/work/MMClassification教程/mmclassification/mmcls/utils/setup_env.py:43: UserWarning: Setting MKL_NUM_THREADS environment variable for each process to be 1 in default, to avoid your system being overloaded, please further tune the variable for optimal performance in your application as needed.\n",
      "  f'Setting MKL_NUM_THREADS environment variable for each process '\n",
      "load checkpoint from local path: work_dirs/mobilenet_v2_1x_fruit30/latest.pth\n",
      "[>>>>>>>>>>>>>>>>>>>>>>>>>>>] 1078/1078, 251.4 task/s, elapsed: 4s, ETA:     0s\n",
      "dumping results to testset_result.json\n"
     ]
    }
   ],
   "source": [
    "!python tools/test.py \\\n",
    "        configs/mobilenet_v2/mobilenet_v2_1x_fruit30.py \\\n",
    "        work_dirs/mobilenet_v2_1x_fruit30/latest.pth \\\n",
    "        --out work_dirs/mobilenet_v2_1x_fruit30/testset_result.json"
   ]
  }
 ],
 "metadata": {
  "kernelspec": {
   "display_name": "Python 3 (ipykernel)",
   "language": "python",
   "name": "python3"
  },
  "language_info": {
   "codemirror_mode": {
    "name": "ipython",
    "version": 3
   },
   "file_extension": ".py",
   "mimetype": "text/x-python",
   "name": "python",
   "nbconvert_exporter": "python",
   "pygments_lexer": "ipython3",
   "version": "3.7.10"
  }
 },
 "nbformat": 4,
 "nbformat_minor": 5
}
